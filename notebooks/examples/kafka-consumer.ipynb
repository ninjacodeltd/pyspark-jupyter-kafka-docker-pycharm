{
 "cells": [
  {
   "cell_type": "code",
   "execution_count": 76,
   "id": "initial_id",
   "metadata": {
    "collapsed": true,
    "ExecuteTime": {
     "end_time": "2023-12-01T07:26:52.845556Z",
     "start_time": "2023-12-01T07:26:52.545286Z"
    }
   },
   "outputs": [],
   "source": [
    "from pyspark.sql import SparkSession\n",
    "\n",
    "scala_version = '2.12'\n",
    "spark_version = '3.5.0'\n",
    "packages = [\n",
    "    f'org.apache.spark:spark-sql-kafka-0-10_{scala_version}:{spark_version}',\n",
    "    'org.apache.kafka:kafka-clients:3.5.0'\n",
    "]\n",
    "\n",
    "spark = (\n",
    "    SparkSession\n",
    "    .builder\n",
    "    .master(\"spark://spark-master:7077\")\n",
    "    .config('spark.jars.packages', \",\".join(packages))\n",
    "    .getOrCreate()\n",
    ")"
   ]
  },
  {
   "cell_type": "code",
   "execution_count": 77,
   "outputs": [],
   "source": [
    "df = (\n",
    "    spark\n",
    "        .readStream\n",
    "        .format(\"kafka\")\n",
    "        .option(\"kafka.bootstrap.servers\", \"kafka:29092\")\n",
    "        .option(\"subscribe\", \"web-events\")\n",
    "        .option(\"startingOffsets\", \"earliest\")\n",
    "        .load()\n",
    ")"
   ],
   "metadata": {
    "collapsed": false,
    "ExecuteTime": {
     "end_time": "2023-12-01T07:26:52.869981Z",
     "start_time": "2023-12-01T07:26:52.854283Z"
    }
   },
   "id": "1b01eabc2f2e53a9"
  },
  {
   "cell_type": "code",
   "execution_count": 78,
   "outputs": [
    {
     "name": "stdout",
     "output_type": "stream",
     "text": [
      "root\n",
      " |-- key: binary (nullable = true)\n",
      " |-- value: binary (nullable = true)\n",
      " |-- topic: string (nullable = true)\n",
      " |-- partition: integer (nullable = true)\n",
      " |-- offset: long (nullable = true)\n",
      " |-- timestamp: timestamp (nullable = true)\n",
      " |-- timestampType: integer (nullable = true)\n"
     ]
    }
   ],
   "source": [
    "df.printSchema()"
   ],
   "metadata": {
    "collapsed": false,
    "ExecuteTime": {
     "end_time": "2023-12-01T07:26:52.878920Z",
     "start_time": "2023-12-01T07:26:52.876191Z"
    }
   },
   "id": "2eb49669c9f9fcd0"
  },
  {
   "cell_type": "code",
   "execution_count": 79,
   "outputs": [
    {
     "data": {
      "text/plain": "DataFrame[key: string, value: string]"
     },
     "execution_count": 79,
     "metadata": {},
     "output_type": "execute_result"
    }
   ],
   "source": [
    "df.selectExpr(\"CAST(key AS STRING)\", \"CAST(value AS STRING)\")"
   ],
   "metadata": {
    "collapsed": false,
    "ExecuteTime": {
     "end_time": "2023-12-01T07:26:52.918688Z",
     "start_time": "2023-12-01T07:26:52.883562Z"
    }
   },
   "id": "3f94b4a262f4529e"
  },
  {
   "cell_type": "code",
   "execution_count": 80,
   "outputs": [
    {
     "name": "stdout",
     "output_type": "stream",
     "text": [
      "batch_id: 0\n",
      "batch_id: 1\n",
      "batch_id: 2\n",
      "batch_id: 3\n",
      "batch_id: 4\n",
      "batch_id: 5\n",
      "batch_id: 6\n",
      "batch_id: 7\n",
      "batch_id: 8\n",
      "batch_id: 9\n",
      "batch_id: 10\n",
      "batch_id: 11\n",
      "batch_id: 12\n",
      "batch_id: 13\n",
      "batch_id: 14\n",
      "batch_id: 15\n",
      "batch_id: 16\n",
      "batch_id: 17\n",
      "batch_id: 18\n",
      "batch_id: 19\n",
      "batch_id: 20\n",
      "batch_id: 21\n",
      "batch_id: 22\n"
     ]
    },
    {
     "data": {
      "text/plain": "False"
     },
     "execution_count": 80,
     "metadata": {},
     "output_type": "execute_result"
    }
   ],
   "source": [
    "(\n",
    "    df.selectExpr(\"CAST(key AS STRING)\", \"CAST(value AS STRING)\")\n",
    "        .writeStream\n",
    "        .outputMode(\"append\")\n",
    "        .foreachBatch(lambda batch_df, batch_id: print(f\"batch_id: {batch_id}\"))\n",
    "        .start()\n",
    "        .awaitTermination(5)    \n",
    ")"
   ],
   "metadata": {
    "collapsed": false,
    "ExecuteTime": {
     "end_time": "2023-12-01T07:26:58.020779Z",
     "start_time": "2023-12-01T07:26:52.915217Z"
    }
   },
   "id": "3216a3d2fcd7e14a"
  },
  {
   "cell_type": "code",
   "execution_count": 81,
   "outputs": [],
   "source": [
    "spark.stop()"
   ],
   "metadata": {
    "collapsed": false,
    "ExecuteTime": {
     "end_time": "2023-12-01T07:26:58.316879Z",
     "start_time": "2023-12-01T07:26:58.020457Z"
    }
   },
   "id": "67c57c09ace345d9"
  },
  {
   "cell_type": "code",
   "execution_count": 81,
   "outputs": [],
   "source": [],
   "metadata": {
    "collapsed": false,
    "ExecuteTime": {
     "end_time": "2023-12-01T07:26:58.323689Z",
     "start_time": "2023-12-01T07:26:58.318119Z"
    }
   },
   "id": "53b30ee3bc3f531e"
  }
 ],
 "metadata": {
  "kernelspec": {
   "display_name": "Python 3",
   "language": "python",
   "name": "python3"
  },
  "language_info": {
   "codemirror_mode": {
    "name": "ipython",
    "version": 2
   },
   "file_extension": ".py",
   "mimetype": "text/x-python",
   "name": "python",
   "nbconvert_exporter": "python",
   "pygments_lexer": "ipython2",
   "version": "2.7.6"
  }
 },
 "nbformat": 4,
 "nbformat_minor": 5
}
