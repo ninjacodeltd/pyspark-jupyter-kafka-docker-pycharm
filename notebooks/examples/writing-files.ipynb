{
 "cells": [
  {
   "cell_type": "code",
   "execution_count": 6,
   "id": "initial_id",
   "metadata": {
    "collapsed": true,
    "ExecuteTime": {
     "end_time": "2024-01-04T11:02:29.626407Z",
     "start_time": "2024-01-04T11:02:29.612002Z"
    }
   },
   "outputs": [],
   "source": [
    "from pyspark.sql import SparkSession\n",
    "import os\n",
    "\n",
    "spark = (\n",
    "    SparkSession\n",
    "    .builder\n",
    "    .master(\"spark://spark-master:7077\")\n",
    "    .getOrCreate()\n",
    ")"
   ]
  },
  {
   "cell_type": "code",
   "outputs": [
    {
     "name": "stdout",
     "output_type": "stream",
     "text": [
      "root\n",
      " |-- name: string (nullable = true)\n",
      " |-- type: string (nullable = true)\n"
     ]
    }
   ],
   "source": [
    "columns = ['name', 'type']\n",
    "data = [('Apple', 'Fruit'), ('Banana', 'Fruit'), ('Carrot', 'Vegetable'), ('Potato', 'Vegetable')]\n",
    "df = spark.createDataFrame(data=data, schema=columns)\n",
    "df.printSchema()"
   ],
   "metadata": {
    "collapsed": false,
    "ExecuteTime": {
     "end_time": "2024-01-04T11:02:30.969866Z",
     "start_time": "2024-01-04T11:02:30.914491Z"
    }
   },
   "id": "3026e84cb7857a42",
   "execution_count": 7
  },
  {
   "cell_type": "code",
   "outputs": [
    {
     "name": "stdout",
     "output_type": "stream",
     "text": [
      "+------+---------+\n",
      "|  name|     type|\n",
      "+------+---------+\n",
      "| Apple|    Fruit|\n",
      "|Banana|    Fruit|\n",
      "|Carrot|Vegetable|\n",
      "|Potato|Vegetable|\n",
      "+------+---------+\n"
     ]
    }
   ],
   "source": [
    "df.show()"
   ],
   "metadata": {
    "collapsed": false,
    "ExecuteTime": {
     "end_time": "2024-01-04T11:02:32.508225Z",
     "start_time": "2024-01-04T11:02:31.861022Z"
    }
   },
   "id": "792daf852f3b92fc",
   "execution_count": 8
  },
  {
   "cell_type": "code",
   "outputs": [],
   "source": [
    "(\n",
    "    df\n",
    "    .coalesce(1)\n",
    "    .write.csv(\n",
    "        os.path.join(\"/opt/workspace\", \"food.csv\"), \n",
    "        header=True\n",
    "    )\n",
    ")"
   ],
   "metadata": {
    "collapsed": false,
    "ExecuteTime": {
     "end_time": "2024-01-04T11:02:34.195495Z",
     "start_time": "2024-01-04T11:02:33.609199Z"
    }
   },
   "id": "b1f674d4bf83cde",
   "execution_count": 9
  },
  {
   "cell_type": "code",
   "outputs": [],
   "source": [
    "spark.stop()"
   ],
   "metadata": {
    "collapsed": false,
    "ExecuteTime": {
     "end_time": "2024-01-04T11:03:23.220750Z",
     "start_time": "2024-01-04T11:03:22.472254Z"
    }
   },
   "id": "cb747f7e76242254",
   "execution_count": 10
  },
  {
   "cell_type": "code",
   "outputs": [],
   "source": [],
   "metadata": {
    "collapsed": false
   },
   "id": "7852fd39af164ccb"
  }
 ],
 "metadata": {
  "kernelspec": {
   "display_name": "Python 3",
   "language": "python",
   "name": "python3"
  },
  "language_info": {
   "codemirror_mode": {
    "name": "ipython",
    "version": 2
   },
   "file_extension": ".py",
   "mimetype": "text/x-python",
   "name": "python",
   "nbconvert_exporter": "python",
   "pygments_lexer": "ipython2",
   "version": "2.7.6"
  }
 },
 "nbformat": 4,
 "nbformat_minor": 5
}
