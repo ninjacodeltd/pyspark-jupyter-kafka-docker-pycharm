{
 "cells": [
  {
   "cell_type": "code",
   "execution_count": 1,
   "id": "initial_id",
   "metadata": {
    "collapsed": true,
    "ExecuteTime": {
     "end_time": "2023-12-01T07:28:14.476988Z",
     "start_time": "2023-12-01T07:28:07.913426Z"
    }
   },
   "outputs": [],
   "source": [
    "from pyspark.sql import SparkSession\n",
    "import os\n",
    "\n",
    "spark = (\n",
    "    SparkSession\n",
    "    .builder\n",
    "    .master(\"spark://spark-master:7077\")\n",
    "    .getOrCreate()\n",
    ")"
   ]
  },
  {
   "cell_type": "code",
   "execution_count": 3,
   "outputs": [
    {
     "name": "stdout",
     "output_type": "stream",
     "text": [
      "root\n",
      " |-- datetime: string (nullable = true)\n",
      " |-- city: string (nullable = true)\n",
      " |-- state: string (nullable = true)\n",
      " |-- country: string (nullable = true)\n",
      " |-- shape: string (nullable = true)\n",
      " |-- duration (seconds): string (nullable = true)\n",
      " |-- duration (hours/min): string (nullable = true)\n",
      " |-- comments: string (nullable = true)\n",
      " |-- date posted: string (nullable = true)\n",
      " |-- latitude: string (nullable = true)\n",
      " |-- longitude : double (nullable = true)\n"
     ]
    }
   ],
   "source": [
    "df = spark.read.csv(\n",
    "    path=os.path.join(\"/opt/workspace\", \"ufo.csv\"),\n",
    "    header=True,\n",
    "    inferSchema=True\n",
    ")\n",
    "\n",
    "df.printSchema()"
   ],
   "metadata": {
    "collapsed": false,
    "ExecuteTime": {
     "end_time": "2023-12-01T07:29:15.832524Z",
     "start_time": "2023-12-01T07:29:14.837530Z"
    }
   },
   "id": "6ad0e4481d1fc8c"
  },
  {
   "cell_type": "code",
   "execution_count": 4,
   "outputs": [
    {
     "name": "stdout",
     "output_type": "stream",
     "text": [
      "+----------------+--------------------+-----+-------+--------+------------------+--------------------+--------------------+-----------+----------+------------+\n",
      "|        datetime|                city|state|country|   shape|duration (seconds)|duration (hours/min)|            comments|date posted|  latitude|  longitude |\n",
      "+----------------+--------------------+-----+-------+--------+------------------+--------------------+--------------------+-----------+----------+------------+\n",
      "|10/10/1949 20:30|          san marcos|   tx|     us|cylinder|              2700|          45 minutes|This event took p...|  4/27/2004|29.8830556| -97.9411111|\n",
      "|10/10/1949 21:00|        lackland afb|   tx|   NULL|   light|              7200|             1-2 hrs|1949 Lackland AFB...| 12/16/2005|  29.38421|  -98.581082|\n",
      "|10/10/1955 17:00|chester (uk/england)| NULL|     gb|  circle|                20|          20 seconds|Green/Orange circ...|  1/21/2008|      53.2|   -2.916667|\n",
      "|10/10/1956 21:00|                edna|   tx|     us|  circle|                20|            1/2 hour|My older brother ...|  1/17/2004|28.9783333| -96.6458333|\n",
      "|10/10/1960 20:00|             kaneohe|   hi|     us|   light|               900|          15 minutes|AS a Marine 1st L...|  1/22/2004|21.4180556|-157.8036111|\n",
      "+----------------+--------------------+-----+-------+--------+------------------+--------------------+--------------------+-----------+----------+------------+\n"
     ]
    }
   ],
   "source": [
    "df.show(5)"
   ],
   "metadata": {
    "collapsed": false,
    "ExecuteTime": {
     "end_time": "2023-12-01T07:29:20.550856Z",
     "start_time": "2023-12-01T07:29:20.163229Z"
    }
   },
   "id": "b8f8a341908b25e1"
  },
  {
   "cell_type": "code",
   "execution_count": null,
   "outputs": [],
   "source": [],
   "metadata": {
    "collapsed": false
   },
   "id": "a44d1305e6b64885"
  }
 ],
 "metadata": {
  "kernelspec": {
   "display_name": "Python 3",
   "language": "python",
   "name": "python3"
  },
  "language_info": {
   "codemirror_mode": {
    "name": "ipython",
    "version": 2
   },
   "file_extension": ".py",
   "mimetype": "text/x-python",
   "name": "python",
   "nbconvert_exporter": "python",
   "pygments_lexer": "ipython2",
   "version": "2.7.6"
  }
 },
 "nbformat": 4,
 "nbformat_minor": 5
}
